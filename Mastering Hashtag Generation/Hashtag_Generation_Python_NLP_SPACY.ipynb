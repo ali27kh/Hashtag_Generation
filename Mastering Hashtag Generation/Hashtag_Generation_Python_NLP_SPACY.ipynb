{
 "cells": [
  {
   "cell_type": "code",
   "execution_count": 2,
   "metadata": {
    "id": "ijbjWkZhSvKd"
   },
   "outputs": [],
   "source": [
    "import spacy\n",
    "\n",
    "nlp = spacy.load(\"en_core_web_sm\")"
   ]
  },
  {
   "cell_type": "code",
   "execution_count": 3,
   "metadata": {
    "id": "6mGyuR8NTJVM"
   },
   "outputs": [],
   "source": [
    "def extract_keywords_spacy(text):\n",
    "    doc = nlp(text)\n",
    "    keywords = [token.text.lower() for token in doc if token.pos_ in (\"NOUN\", \"PROPN\", \"ADJ\")]\n",
    "    return keywords\n",
    "\n",
    "def generate_hashtags(keywords, num_hashtags):\n",
    "    unique_keywords = list(dict.fromkeys(keywords))\n",
    "    filtered = [word for word in unique_keywords if len(word) > 3]\n",
    "    sorted_keywords = sorted(filtered, key=len, reverse=True)\n",
    "    return [f\"#{word.capitalize()}\" for word in sorted_keywords[:num_hashtags]]\n",
    "\n",
    "def optimize_hashtags_spacy(text):\n",
    "    num = 5 if len(text.split()) > 20 else 3\n",
    "    keywords = extract_keywords_spacy(text)\n",
    "    return generate_hashtags(keywords, num)"
   ]
  },
  {
   "cell_type": "code",
   "execution_count": 5,
   "metadata": {
    "colab": {
     "base_uri": "https://localhost:8080/"
    },
    "id": "76Kqgt1iTMXu",
    "outputId": "2b56167f-9e2e-4976-8c08-1212bb334ed5"
   },
   "outputs": [
    {
     "name": "stdout",
     "output_type": "stream",
     "text": [
      "The Text to generate hashtag is: Digital transformation is reshaping businesses by integrating artificial intelligence, big data, and automation. These technologies help optimize processes, improve decision-making, and provide better customer experiences. \n",
      "Hashtags generated : ['#Transformation', '#Intelligence', '#Technologies', '#Experiences', '#Businesses']\n"
     ]
    }
   ],
   "source": [
    "# Test\n",
    "content = input(\"The Text to generate hashtag is: \")\n",
    "\n",
    "hashtags = optimize_hashtags_spacy(content)\n",
    "\n",
    "print(\"Hashtags generated :\", hashtags)"
   ]
  },
  {
   "cell_type": "code",
   "execution_count": null,
   "metadata": {
    "id": "lwlqyS-1TQRv"
   },
   "outputs": [],
   "source": []
  }
 ],
 "metadata": {
  "colab": {
   "provenance": []
  },
  "kernelspec": {
   "display_name": "Python 3 (ipykernel)",
   "language": "python",
   "name": "python3"
  },
  "language_info": {
   "codemirror_mode": {
    "name": "ipython",
    "version": 3
   },
   "file_extension": ".py",
   "mimetype": "text/x-python",
   "name": "python",
   "nbconvert_exporter": "python",
   "pygments_lexer": "ipython3",
   "version": "3.8.8"
  }
 },
 "nbformat": 4,
 "nbformat_minor": 1
}
