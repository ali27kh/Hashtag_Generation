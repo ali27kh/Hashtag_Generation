{
 "cells": [
  {
   "cell_type": "code",
   "execution_count": 1,
   "id": "52f29f50",
   "metadata": {},
   "outputs": [],
   "source": [
    "import nltk\n",
    "from nltk import word_tokenize, pos_tag"
   ]
  },
  {
   "cell_type": "code",
   "execution_count": 2,
   "id": "47b5200d",
   "metadata": {},
   "outputs": [
    {
     "name": "stderr",
     "output_type": "stream",
     "text": [
      "[nltk_data] Downloading package punkt to\n",
      "[nltk_data]     C:\\Users\\ALI\\AppData\\Roaming\\nltk_data...\n",
      "[nltk_data]   Package punkt is already up-to-date!\n",
      "[nltk_data] Downloading package averaged_perceptron_tagger to\n",
      "[nltk_data]     C:\\Users\\ALI\\AppData\\Roaming\\nltk_data...\n",
      "[nltk_data]   Package averaged_perceptron_tagger is already up-to-\n",
      "[nltk_data]       date!\n"
     ]
    },
    {
     "data": {
      "text/plain": [
       "True"
      ]
     },
     "execution_count": 2,
     "metadata": {},
     "output_type": "execute_result"
    }
   ],
   "source": [
    "nltk.download('punkt')\n",
    "nltk.download('averaged_perceptron_tagger')"
   ]
  },
  {
   "cell_type": "code",
   "execution_count": 3,
   "id": "a2567158",
   "metadata": {},
   "outputs": [
    {
     "name": "stderr",
     "output_type": "stream",
     "text": [
      "[nltk_data] Downloading package averaged_perceptron_tagger_eng to\n",
      "[nltk_data]     C:\\Users\\ALI\\AppData\\Roaming\\nltk_data...\n",
      "[nltk_data]   Package averaged_perceptron_tagger_eng is already up-to-\n",
      "[nltk_data]       date!\n"
     ]
    },
    {
     "data": {
      "text/plain": [
       "True"
      ]
     },
     "execution_count": 3,
     "metadata": {},
     "output_type": "execute_result"
    }
   ],
   "source": [
    "nltk.download('averaged_perceptron_tagger_eng')"
   ]
  },
  {
   "cell_type": "code",
   "execution_count": 4,
   "id": "bee45d4e",
   "metadata": {},
   "outputs": [],
   "source": [
    "def extract_keywords(content):\n",
    "    # Tokenize and POS-tag\n",
    "    tokens = word_tokenize(content)\n",
    "    tags = pos_tag(tokens)\n",
    "    # Keep nouns and adjectives (lowercased)\n",
    "    return [word.lower() for word, tag in tags if tag.startswith('NN') or tag == 'JJ']\n",
    "\n",
    "def generate_hashtags(keywords, num_hashtags):\n",
    "    # Remove duplicates, filter short words, sort by length\n",
    "    unique_keywords = list(dict.fromkeys(keywords))\n",
    "    filtered = [word for word in unique_keywords if len(word) > 3]\n",
    "    sorted_keywords = sorted(filtered, key=len, reverse=True)\n",
    "    # Format as hashtags\n",
    "    return [f\"#{word.capitalize()}\" for word in sorted_keywords[:num_hashtags]]\n",
    "\n",
    "def optimize_hashtags(content):\n",
    "    # Adjust number of hashtags based on text length\n",
    "    num = 5 if len(word_tokenize(content)) > 20 else 3\n",
    "    keywords = extract_keywords(content)\n",
    "    return generate_hashtags(keywords, num)"
   ]
  },
  {
   "cell_type": "code",
   "execution_count": 5,
   "id": "f3848217",
   "metadata": {},
   "outputs": [
    {
     "name": "stdout",
     "output_type": "stream",
     "text": [
      "The Text to generate hashtag is: \"Artificial Intelligence is transforming the world of technology. From self-driving cars to smart assistants, AI is making our lives easier, faster, and more efficient. The future belongs to those who innovate.\"\n",
      "Hashtags générés : ['#Intelligence', '#Self-driving', '#Artificial', '#Technology', '#Assistants']\n"
     ]
    }
   ],
   "source": [
    "# User Test\n",
    "content = input(\"The Text to generate hashtag is: \")\n",
    "\n",
    "hashtags = optimize_hashtags(content)\n",
    "\n",
    "# Output\n",
    "print(\"Hashtags générés :\", hashtags)"
   ]
  },
  {
   "cell_type": "code",
   "execution_count": null,
   "id": "9e2a3c25",
   "metadata": {},
   "outputs": [],
   "source": []
  }
 ],
 "metadata": {
  "kernelspec": {
   "display_name": "Python 3 (ipykernel)",
   "language": "python",
   "name": "python3"
  },
  "language_info": {
   "codemirror_mode": {
    "name": "ipython",
    "version": 3
   },
   "file_extension": ".py",
   "mimetype": "text/x-python",
   "name": "python",
   "nbconvert_exporter": "python",
   "pygments_lexer": "ipython3",
   "version": "3.8.8"
  }
 },
 "nbformat": 4,
 "nbformat_minor": 5
}
